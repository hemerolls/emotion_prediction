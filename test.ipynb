{
 "cells": [
  {
   "cell_type": "code",
   "execution_count": 10,
   "id": "588bf235-9331-446c-a54f-460a4d1ff5bf",
   "metadata": {},
   "outputs": [
    {
     "name": "stderr",
     "output_type": "stream",
     "text": [
      "[nltk_data] Downloading package stopwords to\n",
      "[nltk_data]     C:\\Users\\user\\AppData\\Roaming\\nltk_data...\n",
      "[nltk_data]   Package stopwords is already up-to-date!\n"
     ]
    },
    {
     "data": {
      "application/vnd.jupyter.widget-view+json": {
       "model_id": "3404b76778ca4fce8a0f8781bce925b9",
       "version_major": 2,
       "version_minor": 0
      },
      "text/plain": [
       "Map:   0%|          | 0/7525 [00:00<?, ? examples/s]"
      ]
     },
     "metadata": {},
     "output_type": "display_data"
    },
    {
     "data": {
      "application/vnd.jupyter.widget-view+json": {
       "model_id": "0662d2dec68a4989b59829858217a12e",
       "version_major": 2,
       "version_minor": 0
      },
      "text/plain": [
       "Map:   0%|          | 0/1882 [00:00<?, ? examples/s]"
      ]
     },
     "metadata": {},
     "output_type": "display_data"
    },
    {
     "name": "stdout",
     "output_type": "stream",
     "text": [
      "77\n"
     ]
    },
    {
     "data": {
      "application/vnd.jupyter.widget-view+json": {
       "model_id": "c73a5cc4423d4e259e1223f573408cc9",
       "version_major": 2,
       "version_minor": 0
      },
      "text/plain": [
       "Map:   0%|          | 0/7525 [00:00<?, ? examples/s]"
      ]
     },
     "metadata": {},
     "output_type": "display_data"
    },
    {
     "data": {
      "application/vnd.jupyter.widget-view+json": {
       "model_id": "b68848938aa8433083340036384d930a",
       "version_major": 2,
       "version_minor": 0
      },
      "text/plain": [
       "Map:   0%|          | 0/1882 [00:00<?, ? examples/s]"
      ]
     },
     "metadata": {},
     "output_type": "display_data"
    },
    {
     "data": {
      "application/vnd.jupyter.widget-view+json": {
       "model_id": "352572282a8d4e8a9ed407c011b49687",
       "version_major": 2,
       "version_minor": 0
      },
      "text/plain": [
       "Saving the dataset (0/1 shards):   0%|          | 0/7525 [00:00<?, ? examples/s]"
      ]
     },
     "metadata": {},
     "output_type": "display_data"
    },
    {
     "data": {
      "application/vnd.jupyter.widget-view+json": {
       "model_id": "05650d99ad9247d4af9288684ba88734",
       "version_major": 2,
       "version_minor": 0
      },
      "text/plain": [
       "Saving the dataset (0/1 shards):   0%|          | 0/1882 [00:00<?, ? examples/s]"
      ]
     },
     "metadata": {},
     "output_type": "display_data"
    }
   ],
   "source": [
    "from datasets import load_dataset, DatasetDict\n",
    "from transformers import AutoTokenizer, pipeline\n",
    "import re\n",
    "import numpy as np\n",
    "from collections import Counter\n",
    "import nltk\n",
    "import torch\n",
    "from nltk.corpus import stopwords\n",
    "import matplotlib.pyplot as plt\n",
    "from datasets import Features, ClassLabel\n",
    "\n",
    "# 1. Загрузка данных и токенизатора\n",
    "name = \"Geotrend/distilbert-base-ru-cased\"\n",
    "tokenizer = AutoTokenizer.from_pretrained(name)\n",
    "\n",
    "# Загрузка датасета со всеми сплитами\n",
    "ds = load_dataset(\"sagteam/cedr_v1\", \"main\")  # Теперь ds содержит 'train' и 'test'\n",
    "\n",
    "# id2label для справки\n",
    "id2label = {\n",
    "    0: \"joy\",\n",
    "    1: \"sadness\",\n",
    "    2: \"surprise\",\n",
    "    3: \"fear\",\n",
    "    4: \"anger\",\n",
    "    5: \"no_emotion\"\n",
    "}\n",
    "label2id = {v: k for k, v in id2label.items()}\n",
    "\n",
    "\n",
    "# 3. Очистка текста\n",
    "nltk.download('stopwords')\n",
    "ru_stopwords = set(stopwords.words('russian'))\n",
    "\n",
    "\n",
    "def clean_text(text):\n",
    "    text = re.sub(r'https?://\\S+|www\\.\\S+', '', text)\n",
    "    text = re.sub(r'\\S+@\\S+', '', text)\n",
    "    text = re.sub(r'@\\S+|#\\S+', '', text)\n",
    "    text = re.sub(r'_{5,}', '', text)\n",
    "    text = re.sub(r'\\)+', ')', text)\n",
    "    text = re.sub(r'\\s+', ' ', text)\n",
    "    tokens = text.split()\n",
    "    tokens = [t for t in tokens if t not in ru_stopwords and len(t) > 2]\n",
    "    return ' '.join(tokens) if tokens else None\n",
    "\n",
    "\n",
    "def process_text(example):\n",
    "    example['cleaned_text'] = clean_text(example['text'])\n",
    "    return example\n",
    "\n",
    "\n",
    "def create_averaged_labels(example):\n",
    "    # Создаём one-hot вектор с float значениями\n",
    "    hard_label = [0] * 6\n",
    "    if example['labels']:\n",
    "        for label in example['labels']:\n",
    "            if label < 6:\n",
    "                hard_label[label] = 1\n",
    "    if not example['labels']:\n",
    "        hard_label[5] = 1\n",
    "    hard_label = torch.tensor(hard_label, dtype=torch.float32)\n",
    "    # Перезаписываем 'labels' вместо создания нового поля 'label'\n",
    "    return {\n",
    "        'label': hard_label\n",
    "    }\n",
    "\n",
    "\n",
    "# 5. Обработка каждого сплита\n",
    "processed = {}\n",
    "for split in ds:\n",
    "    temp_ds = ds[split]\n",
    "\n",
    "    # Очистка текста\n",
    "    temp_ds = temp_ds.map(process_text)\n",
    "    temp_ds = temp_ds.filter(lambda x: x['cleaned_text'] is not None)\n",
    "\n",
    "    # Создание усреднённых меток\n",
    "    temp_ds = temp_ds.map(create_averaged_labels)\n",
    "\n",
    "    # Удаление ненужных колонок\n",
    "    temp_ds = temp_ds.remove_columns(['text', 'source', 'labels'])\n",
    "    temp_ds = temp_ds.rename_column('label', 'labels')\n",
    "\n",
    "    processed[split] = temp_ds\n",
    "\n",
    "\n",
    "# 6. Определение максимальной длины\n",
    "def get_max_length(dataset, sample_size=1000):\n",
    "    sample_texts = dataset.shuffle(seed=42).select(range(sample_size))['cleaned_text']\n",
    "    tokenized = tokenizer(sample_texts, truncation=False, padding=False)\n",
    "    lengths = [len(x) for x in tokenized['input_ids']]\n",
    "    return max(lengths)\n",
    "\n",
    "\n",
    "max_length = get_max_length(processed['train'])\n",
    "print(max_length)\n",
    "\n",
    "# 7. Токенизация\n",
    "def tokenize_function(examples):\n",
    "    return tokenizer(\n",
    "        examples['cleaned_text'],\n",
    "        padding=False,\n",
    "        truncation=True,\n",
    "        max_length=128,\n",
    "        return_special_tokens_mask=True,\n",
    "        return_attention_mask=True\n",
    "    )\n",
    "\n",
    "\n",
    "tokenized_datasets = {}\n",
    "for split in processed:\n",
    "    tokenized = processed[split].map(lambda x: tokenize_function(x), batched=True)\n",
    "    tokenized = tokenized.remove_columns(['cleaned_text'])\n",
    "    tokenized.set_format(type='torch', columns=['labels','input_ids','attention_mask'])\n",
    "    tokenized_datasets[split] = tokenized\n",
    "\n",
    "# 8. Сохранение\n",
    "tokenized_datasets = DatasetDict(tokenized_datasets)\n",
    "tokenized_datasets.save_to_disk('./processed_datasets')\n",
    "\n"
   ]
  },
  {
   "cell_type": "code",
   "execution_count": 18,
   "id": "dafc634e-d7cc-4564-a4da-571579509682",
   "metadata": {},
   "outputs": [
    {
     "name": "stdout",
     "output_type": "stream",
     "text": [
      "{'labels': tensor([0., 0., 0., 0., 0., 1.]), 'input_ids': tensor([   11, 12777,  3167,   175, 10934,  1293,  4590,   326,  4321,  1531,\n",
      "         3155, 12777,  3167,  9664,   724,   172,  2493,    12]), 'attention_mask': tensor([1, 1, 1, 1, 1, 1, 1, 1, 1, 1, 1, 1, 1, 1, 1, 1, 1, 1])}\n"
     ]
    }
   ],
   "source": [
    "print(tokenized_datasets['test'][0])"
   ]
  },
  {
   "cell_type": "code",
   "execution_count": 27,
   "id": "caf34557-8f29-4ace-bd9d-5c8f3bf95a16",
   "metadata": {},
   "outputs": [
    {
     "name": "stderr",
     "output_type": "stream",
     "text": [
      "Some weights of DistilBertForSequenceClassification were not initialized from the model checkpoint at Geotrend/distilbert-base-ru-cased and are newly initialized: ['classifier.bias', 'classifier.weight', 'pre_classifier.bias', 'pre_classifier.weight']\n",
      "You should probably TRAIN this model on a down-stream task to be able to use it for predictions and inference.\n"
     ]
    },
    {
     "data": {
      "application/vnd.jupyter.widget-view+json": {
       "model_id": "442c79c378b04497b3e3f238e0f57838",
       "version_major": 2,
       "version_minor": 0
      },
      "text/plain": [
       "Epoch 1/35:   0%|          | 0/236 [00:00<?, ?it/s]"
      ]
     },
     "metadata": {},
     "output_type": "display_data"
    },
    {
     "name": "stdout",
     "output_type": "stream",
     "text": [
      "\n",
      "Epoch 1 completed:\n",
      "Average Loss: 0.3810\n",
      "Average Accuracy: 0.2399\n",
      "Average F1: 0.3180\n",
      "\n"
     ]
    },
    {
     "data": {
      "application/vnd.jupyter.widget-view+json": {
       "model_id": "48bd3e0cc59c40c786d2495c01fa63ce",
       "version_major": 2,
       "version_minor": 0
      },
      "text/plain": [
       "Epoch 2/35:   0%|          | 0/236 [00:00<?, ?it/s]"
      ]
     },
     "metadata": {},
     "output_type": "display_data"
    },
    {
     "name": "stdout",
     "output_type": "stream",
     "text": [
      "\n",
      "Epoch 2 completed:\n",
      "Average Loss: 0.6918\n",
      "Average Accuracy: 0.3480\n",
      "Average F1: 0.4403\n",
      "\n"
     ]
    },
    {
     "data": {
      "application/vnd.jupyter.widget-view+json": {
       "model_id": "7853fee9c8c0421e8999129d4853faf6",
       "version_major": 2,
       "version_minor": 0
      },
      "text/plain": [
       "Epoch 3/35:   0%|          | 0/236 [00:00<?, ?it/s]"
      ]
     },
     "metadata": {},
     "output_type": "display_data"
    },
    {
     "name": "stdout",
     "output_type": "stream",
     "text": [
      "\n",
      "Epoch 3 completed:\n",
      "Average Loss: 0.9859\n",
      "Average Accuracy: 0.3891\n",
      "Average F1: 0.4867\n",
      "\n"
     ]
    },
    {
     "data": {
      "application/vnd.jupyter.widget-view+json": {
       "model_id": "12fd9b354e9d4c40b8c1cc4966c5726e",
       "version_major": 2,
       "version_minor": 0
      },
      "text/plain": [
       "Epoch 4/35:   0%|          | 0/236 [00:00<?, ?it/s]"
      ]
     },
     "metadata": {},
     "output_type": "display_data"
    },
    {
     "name": "stdout",
     "output_type": "stream",
     "text": [
      "\n",
      "Epoch 4 completed:\n",
      "Average Loss: 1.2653\n",
      "Average Accuracy: 0.4163\n",
      "Average F1: 0.5159\n",
      "\n"
     ]
    },
    {
     "data": {
      "application/vnd.jupyter.widget-view+json": {
       "model_id": "24aacb8be7a64c96a10ab1a0d57b0bc9",
       "version_major": 2,
       "version_minor": 0
      },
      "text/plain": [
       "Epoch 5/35:   0%|          | 0/236 [00:00<?, ?it/s]"
      ]
     },
     "metadata": {},
     "output_type": "display_data"
    },
    {
     "name": "stdout",
     "output_type": "stream",
     "text": [
      "\n",
      "Epoch 5 completed:\n",
      "Average Loss: 1.5198\n",
      "Average Accuracy: 0.4396\n",
      "Average F1: 0.5391\n",
      "\n"
     ]
    },
    {
     "data": {
      "application/vnd.jupyter.widget-view+json": {
       "model_id": "8403d54de8cd4a0ca85e947be2dde59a",
       "version_major": 2,
       "version_minor": 0
      },
      "text/plain": [
       "Epoch 6/35:   0%|          | 0/236 [00:00<?, ?it/s]"
      ]
     },
     "metadata": {},
     "output_type": "display_data"
    },
    {
     "name": "stdout",
     "output_type": "stream",
     "text": [
      "\n",
      "Epoch 6 completed:\n",
      "Average Loss: 1.7483\n",
      "Average Accuracy: 0.4645\n",
      "Average F1: 0.5634\n",
      "\n"
     ]
    },
    {
     "data": {
      "application/vnd.jupyter.widget-view+json": {
       "model_id": "e0f06d4f42cc4f50a1d2ae243bec103e",
       "version_major": 2,
       "version_minor": 0
      },
      "text/plain": [
       "Epoch 7/35:   0%|          | 0/236 [00:00<?, ?it/s]"
      ]
     },
     "metadata": {},
     "output_type": "display_data"
    },
    {
     "name": "stdout",
     "output_type": "stream",
     "text": [
      "\n",
      "Epoch 7 completed:\n",
      "Average Loss: 1.9583\n",
      "Average Accuracy: 0.4859\n",
      "Average F1: 0.5838\n",
      "\n"
     ]
    },
    {
     "data": {
      "application/vnd.jupyter.widget-view+json": {
       "model_id": "411405f929c64fe2ac0e2ee7e16edc7c",
       "version_major": 2,
       "version_minor": 0
      },
      "text/plain": [
       "Epoch 8/35:   0%|          | 0/236 [00:00<?, ?it/s]"
      ]
     },
     "metadata": {},
     "output_type": "display_data"
    },
    {
     "name": "stdout",
     "output_type": "stream",
     "text": [
      "\n",
      "Epoch 8 completed:\n",
      "Average Loss: 2.1472\n",
      "Average Accuracy: 0.5080\n",
      "Average F1: 0.6041\n",
      "\n"
     ]
    },
    {
     "data": {
      "application/vnd.jupyter.widget-view+json": {
       "model_id": "c6044a8dbf524c7c82db5ed620969cbb",
       "version_major": 2,
       "version_minor": 0
      },
      "text/plain": [
       "Epoch 9/35:   0%|          | 0/236 [00:00<?, ?it/s]"
      ]
     },
     "metadata": {},
     "output_type": "display_data"
    },
    {
     "name": "stdout",
     "output_type": "stream",
     "text": [
      "\n",
      "Epoch 9 completed:\n",
      "Average Loss: 2.3203\n",
      "Average Accuracy: 0.5289\n",
      "Average F1: 0.6232\n",
      "\n"
     ]
    },
    {
     "data": {
      "application/vnd.jupyter.widget-view+json": {
       "model_id": "084e4f3c99514aa9b953ec764c806d43",
       "version_major": 2,
       "version_minor": 0
      },
      "text/plain": [
       "Epoch 10/35:   0%|          | 0/236 [00:00<?, ?it/s]"
      ]
     },
     "metadata": {},
     "output_type": "display_data"
    },
    {
     "name": "stdout",
     "output_type": "stream",
     "text": [
      "\n",
      "Epoch 10 completed:\n",
      "Average Loss: 2.4720\n",
      "Average Accuracy: 0.5491\n",
      "Average F1: 0.6419\n",
      "\n"
     ]
    },
    {
     "data": {
      "application/vnd.jupyter.widget-view+json": {
       "model_id": "0f5f6d757f4b42cfb8bcf29ba59c69e3",
       "version_major": 2,
       "version_minor": 0
      },
      "text/plain": [
       "Epoch 11/35:   0%|          | 0/236 [00:00<?, ?it/s]"
      ]
     },
     "metadata": {},
     "output_type": "display_data"
    },
    {
     "name": "stdout",
     "output_type": "stream",
     "text": [
      "\n",
      "Epoch 11 completed:\n",
      "Average Loss: 2.6097\n",
      "Average Accuracy: 0.5677\n",
      "Average F1: 0.6587\n",
      "\n"
     ]
    },
    {
     "data": {
      "application/vnd.jupyter.widget-view+json": {
       "model_id": "5f0cd53760aa443e838476508a677fbe",
       "version_major": 2,
       "version_minor": 0
      },
      "text/plain": [
       "Epoch 12/35:   0%|          | 0/236 [00:00<?, ?it/s]"
      ]
     },
     "metadata": {},
     "output_type": "display_data"
    },
    {
     "name": "stdout",
     "output_type": "stream",
     "text": [
      "\n",
      "Epoch 12 completed:\n",
      "Average Loss: 2.7368\n",
      "Average Accuracy: 0.5850\n",
      "Average F1: 0.6736\n",
      "\n"
     ]
    },
    {
     "data": {
      "application/vnd.jupyter.widget-view+json": {
       "model_id": "9ae09388d4604fff95dfb752b66b547c",
       "version_major": 2,
       "version_minor": 0
      },
      "text/plain": [
       "Epoch 13/35:   0%|          | 0/236 [00:00<?, ?it/s]"
      ]
     },
     "metadata": {},
     "output_type": "display_data"
    },
    {
     "name": "stdout",
     "output_type": "stream",
     "text": [
      "\n",
      "Epoch 13 completed:\n",
      "Average Loss: 2.8481\n",
      "Average Accuracy: 0.6020\n",
      "Average F1: 0.6882\n",
      "\n"
     ]
    },
    {
     "data": {
      "application/vnd.jupyter.widget-view+json": {
       "model_id": "e53986b8c91140d59b6fcf310a17fda2",
       "version_major": 2,
       "version_minor": 0
      },
      "text/plain": [
       "Epoch 14/35:   0%|          | 0/236 [00:00<?, ?it/s]"
      ]
     },
     "metadata": {},
     "output_type": "display_data"
    },
    {
     "name": "stdout",
     "output_type": "stream",
     "text": [
      "\n",
      "Epoch 14 completed:\n",
      "Average Loss: 2.9531\n",
      "Average Accuracy: 0.6169\n",
      "Average F1: 0.7015\n",
      "\n"
     ]
    },
    {
     "data": {
      "application/vnd.jupyter.widget-view+json": {
       "model_id": "635c65113bc54ba7b877e3ffe48339d8",
       "version_major": 2,
       "version_minor": 0
      },
      "text/plain": [
       "Epoch 15/35:   0%|          | 0/236 [00:00<?, ?it/s]"
      ]
     },
     "metadata": {},
     "output_type": "display_data"
    },
    {
     "name": "stdout",
     "output_type": "stream",
     "text": [
      "\n",
      "Epoch 15 completed:\n",
      "Average Loss: 3.0445\n",
      "Average Accuracy: 0.6313\n",
      "Average F1: 0.7142\n",
      "\n"
     ]
    },
    {
     "data": {
      "application/vnd.jupyter.widget-view+json": {
       "model_id": "bc3c2fdb03884728bb353f117baffb54",
       "version_major": 2,
       "version_minor": 0
      },
      "text/plain": [
       "Epoch 16/35:   0%|          | 0/236 [00:00<?, ?it/s]"
      ]
     },
     "metadata": {},
     "output_type": "display_data"
    },
    {
     "name": "stdout",
     "output_type": "stream",
     "text": [
      "\n",
      "Epoch 16 completed:\n",
      "Average Loss: 3.1290\n",
      "Average Accuracy: 0.6454\n",
      "Average F1: 0.7262\n",
      "\n"
     ]
    },
    {
     "data": {
      "application/vnd.jupyter.widget-view+json": {
       "model_id": "8cf8c85e849240588040ce8a98ca11bc",
       "version_major": 2,
       "version_minor": 0
      },
      "text/plain": [
       "Epoch 17/35:   0%|          | 0/236 [00:00<?, ?it/s]"
      ]
     },
     "metadata": {},
     "output_type": "display_data"
    },
    {
     "name": "stdout",
     "output_type": "stream",
     "text": [
      "\n",
      "Epoch 17 completed:\n",
      "Average Loss: 3.2040\n",
      "Average Accuracy: 0.6586\n",
      "Average F1: 0.7374\n",
      "\n"
     ]
    },
    {
     "data": {
      "application/vnd.jupyter.widget-view+json": {
       "model_id": "1096829bf4ff4a729a8ff0990f8f3bd1",
       "version_major": 2,
       "version_minor": 0
      },
      "text/plain": [
       "Epoch 18/35:   0%|          | 0/236 [00:00<?, ?it/s]"
      ]
     },
     "metadata": {},
     "output_type": "display_data"
    },
    {
     "name": "stdout",
     "output_type": "stream",
     "text": [
      "\n",
      "Epoch 18 completed:\n",
      "Average Loss: 3.2713\n",
      "Average Accuracy: 0.6708\n",
      "Average F1: 0.7478\n",
      "\n"
     ]
    },
    {
     "data": {
      "application/vnd.jupyter.widget-view+json": {
       "model_id": "2ae581d0213f474a832944087d30080f",
       "version_major": 2,
       "version_minor": 0
      },
      "text/plain": [
       "Epoch 19/35:   0%|          | 0/236 [00:00<?, ?it/s]"
      ]
     },
     "metadata": {},
     "output_type": "display_data"
    },
    {
     "name": "stdout",
     "output_type": "stream",
     "text": [
      "\n",
      "Epoch 19 completed:\n",
      "Average Loss: 3.3378\n",
      "Average Accuracy: 0.6818\n",
      "Average F1: 0.7569\n",
      "\n"
     ]
    },
    {
     "data": {
      "application/vnd.jupyter.widget-view+json": {
       "model_id": "1b8827148ed644a28eedc5c25c14e087",
       "version_major": 2,
       "version_minor": 0
      },
      "text/plain": [
       "Epoch 20/35:   0%|          | 0/236 [00:00<?, ?it/s]"
      ]
     },
     "metadata": {},
     "output_type": "display_data"
    },
    {
     "name": "stdout",
     "output_type": "stream",
     "text": [
      "\n",
      "Epoch 20 completed:\n",
      "Average Loss: 3.3958\n",
      "Average Accuracy: 0.6927\n",
      "Average F1: 0.7659\n",
      "\n"
     ]
    },
    {
     "data": {
      "application/vnd.jupyter.widget-view+json": {
       "model_id": "e08765c6b4d947b2a571be98182b537c",
       "version_major": 2,
       "version_minor": 0
      },
      "text/plain": [
       "Epoch 21/35:   0%|          | 0/236 [00:00<?, ?it/s]"
      ]
     },
     "metadata": {},
     "output_type": "display_data"
    },
    {
     "name": "stdout",
     "output_type": "stream",
     "text": [
      "\n",
      "Epoch 21 completed:\n",
      "Average Loss: 3.4451\n",
      "Average Accuracy: 0.7035\n",
      "Average F1: 0.7747\n",
      "\n"
     ]
    },
    {
     "data": {
      "application/vnd.jupyter.widget-view+json": {
       "model_id": "c339695a257c430dafa34a500b87d51c",
       "version_major": 2,
       "version_minor": 0
      },
      "text/plain": [
       "Epoch 22/35:   0%|          | 0/236 [00:00<?, ?it/s]"
      ]
     },
     "metadata": {},
     "output_type": "display_data"
    },
    {
     "name": "stdout",
     "output_type": "stream",
     "text": [
      "\n",
      "Epoch 22 completed:\n",
      "Average Loss: 3.4918\n",
      "Average Accuracy: 0.7134\n",
      "Average F1: 0.7827\n",
      "\n"
     ]
    },
    {
     "data": {
      "application/vnd.jupyter.widget-view+json": {
       "model_id": "0f1df46b6e6b4d5b88cd5742f39aed56",
       "version_major": 2,
       "version_minor": 0
      },
      "text/plain": [
       "Epoch 23/35:   0%|          | 0/236 [00:00<?, ?it/s]"
      ]
     },
     "metadata": {},
     "output_type": "display_data"
    },
    {
     "name": "stdout",
     "output_type": "stream",
     "text": [
      "\n",
      "Epoch 23 completed:\n",
      "Average Loss: 3.5357\n",
      "Average Accuracy: 0.7225\n",
      "Average F1: 0.7901\n",
      "\n"
     ]
    },
    {
     "data": {
      "application/vnd.jupyter.widget-view+json": {
       "model_id": "0c0890c6b673493fa1d856838c63618e",
       "version_major": 2,
       "version_minor": 0
      },
      "text/plain": [
       "Epoch 24/35:   0%|          | 0/236 [00:00<?, ?it/s]"
      ]
     },
     "metadata": {},
     "output_type": "display_data"
    },
    {
     "name": "stdout",
     "output_type": "stream",
     "text": [
      "\n",
      "Epoch 24 completed:\n",
      "Average Loss: 3.5748\n",
      "Average Accuracy: 0.7312\n",
      "Average F1: 0.7970\n",
      "\n"
     ]
    },
    {
     "data": {
      "application/vnd.jupyter.widget-view+json": {
       "model_id": "d11a7e6aca0a473287d36824b5b2a6a7",
       "version_major": 2,
       "version_minor": 0
      },
      "text/plain": [
       "Epoch 25/35:   0%|          | 0/236 [00:00<?, ?it/s]"
      ]
     },
     "metadata": {},
     "output_type": "display_data"
    },
    {
     "name": "stdout",
     "output_type": "stream",
     "text": [
      "\n",
      "Epoch 25 completed:\n",
      "Average Loss: 3.6118\n",
      "Average Accuracy: 0.7396\n",
      "Average F1: 0.8037\n",
      "\n"
     ]
    },
    {
     "data": {
      "application/vnd.jupyter.widget-view+json": {
       "model_id": "c07af98d434140a3891b58249036053a",
       "version_major": 2,
       "version_minor": 0
      },
      "text/plain": [
       "Epoch 26/35:   0%|          | 0/236 [00:00<?, ?it/s]"
      ]
     },
     "metadata": {},
     "output_type": "display_data"
    },
    {
     "name": "stdout",
     "output_type": "stream",
     "text": [
      "\n",
      "Epoch 26 completed:\n",
      "Average Loss: 3.6470\n",
      "Average Accuracy: 0.7472\n",
      "Average F1: 0.8098\n",
      "\n"
     ]
    },
    {
     "data": {
      "application/vnd.jupyter.widget-view+json": {
       "model_id": "bbf6bc7d24844226a13d9195db6a1797",
       "version_major": 2,
       "version_minor": 0
      },
      "text/plain": [
       "Epoch 27/35:   0%|          | 0/236 [00:00<?, ?it/s]"
      ]
     },
     "metadata": {},
     "output_type": "display_data"
    },
    {
     "name": "stdout",
     "output_type": "stream",
     "text": [
      "\n",
      "Epoch 27 completed:\n",
      "Average Loss: 3.6821\n",
      "Average Accuracy: 0.7544\n",
      "Average F1: 0.8154\n",
      "\n"
     ]
    },
    {
     "data": {
      "application/vnd.jupyter.widget-view+json": {
       "model_id": "91138b9fe38d4c85aa20c8bc9ece2477",
       "version_major": 2,
       "version_minor": 0
      },
      "text/plain": [
       "Epoch 28/35:   0%|          | 0/236 [00:00<?, ?it/s]"
      ]
     },
     "metadata": {},
     "output_type": "display_data"
    },
    {
     "name": "stdout",
     "output_type": "stream",
     "text": [
      "\n",
      "Epoch 28 completed:\n",
      "Average Loss: 3.7119\n",
      "Average Accuracy: 0.7614\n",
      "Average F1: 0.8209\n",
      "\n"
     ]
    },
    {
     "data": {
      "application/vnd.jupyter.widget-view+json": {
       "model_id": "9ba57009b25541e8971143ccde84bfd4",
       "version_major": 2,
       "version_minor": 0
      },
      "text/plain": [
       "Epoch 29/35:   0%|          | 0/236 [00:00<?, ?it/s]"
      ]
     },
     "metadata": {},
     "output_type": "display_data"
    },
    {
     "name": "stdout",
     "output_type": "stream",
     "text": [
      "\n",
      "Epoch 29 completed:\n",
      "Average Loss: 3.7392\n",
      "Average Accuracy: 0.7680\n",
      "Average F1: 0.8262\n",
      "\n"
     ]
    },
    {
     "data": {
      "application/vnd.jupyter.widget-view+json": {
       "model_id": "04229d66db2d4d6798705bfc42676478",
       "version_major": 2,
       "version_minor": 0
      },
      "text/plain": [
       "Epoch 30/35:   0%|          | 0/236 [00:00<?, ?it/s]"
      ]
     },
     "metadata": {},
     "output_type": "display_data"
    },
    {
     "name": "stdout",
     "output_type": "stream",
     "text": [
      "\n",
      "Epoch 30 completed:\n",
      "Average Loss: 3.7657\n",
      "Average Accuracy: 0.7743\n",
      "Average F1: 0.8311\n",
      "\n"
     ]
    },
    {
     "data": {
      "application/vnd.jupyter.widget-view+json": {
       "model_id": "67fdc9e941eb45c4b6e9afcc38fb2f6d",
       "version_major": 2,
       "version_minor": 0
      },
      "text/plain": [
       "Epoch 31/35:   0%|          | 0/236 [00:00<?, ?it/s]"
      ]
     },
     "metadata": {},
     "output_type": "display_data"
    },
    {
     "name": "stdout",
     "output_type": "stream",
     "text": [
      "\n",
      "Epoch 31 completed:\n",
      "Average Loss: 3.7915\n",
      "Average Accuracy: 0.7802\n",
      "Average F1: 0.8358\n",
      "\n"
     ]
    },
    {
     "data": {
      "application/vnd.jupyter.widget-view+json": {
       "model_id": "09f73facc4aa47fc93cdeafea475389d",
       "version_major": 2,
       "version_minor": 0
      },
      "text/plain": [
       "Epoch 32/35:   0%|          | 0/236 [00:00<?, ?it/s]"
      ]
     },
     "metadata": {},
     "output_type": "display_data"
    },
    {
     "name": "stdout",
     "output_type": "stream",
     "text": [
      "\n",
      "Epoch 32 completed:\n",
      "Average Loss: 3.8130\n",
      "Average Accuracy: 0.7859\n",
      "Average F1: 0.8403\n",
      "\n"
     ]
    },
    {
     "data": {
      "application/vnd.jupyter.widget-view+json": {
       "model_id": "fc93a89d4ceb470790c9b42f8e28e673",
       "version_major": 2,
       "version_minor": 0
      },
      "text/plain": [
       "Epoch 33/35:   0%|          | 0/236 [00:00<?, ?it/s]"
      ]
     },
     "metadata": {},
     "output_type": "display_data"
    },
    {
     "name": "stdout",
     "output_type": "stream",
     "text": [
      "\n",
      "Epoch 33 completed:\n",
      "Average Loss: 3.8398\n",
      "Average Accuracy: 0.7910\n",
      "Average F1: 0.8442\n",
      "\n"
     ]
    },
    {
     "data": {
      "application/vnd.jupyter.widget-view+json": {
       "model_id": "f7d7345ce0fe49729baf0f607eccec63",
       "version_major": 2,
       "version_minor": 0
      },
      "text/plain": [
       "Epoch 34/35:   0%|          | 0/236 [00:00<?, ?it/s]"
      ]
     },
     "metadata": {},
     "output_type": "display_data"
    },
    {
     "name": "stdout",
     "output_type": "stream",
     "text": [
      "\n",
      "Epoch 34 completed:\n",
      "Average Loss: 3.8600\n",
      "Average Accuracy: 0.7962\n",
      "Average F1: 0.8483\n",
      "\n"
     ]
    },
    {
     "data": {
      "application/vnd.jupyter.widget-view+json": {
       "model_id": "045b1f981321497eb8ba159dff4563e2",
       "version_major": 2,
       "version_minor": 0
      },
      "text/plain": [
       "Epoch 35/35:   0%|          | 0/236 [00:00<?, ?it/s]"
      ]
     },
     "metadata": {},
     "output_type": "display_data"
    },
    {
     "name": "stdout",
     "output_type": "stream",
     "text": [
      "\n",
      "Epoch 35 completed:\n",
      "Average Loss: 3.8790\n",
      "Average Accuracy: 0.8012\n",
      "Average F1: 0.8521\n",
      "\n",
      "Evaluation results - F1: 0.9997, Accuracy: 0.9995\n"
     ]
    }
   ],
   "source": [
    "import torch\n",
    "import torch.nn as nn\n",
    "from torch.utils.data import DataLoader\n",
    "from torch.optim import AdamW\n",
    "from transformers import get_scheduler, AutoTokenizer, AutoModelForSequenceClassification\n",
    "from peft import LoraConfig, get_peft_model\n",
    "from sklearn.metrics import f1_score, accuracy_score\n",
    "from datasets import load_from_disk\n",
    "from accelerate import Accelerator\n",
    "from accelerate.utils import tqdm  # Используем tqdm из accelerate\n",
    "from timm.layers import LayerNorm2d\n",
    "\n",
    "\n",
    "# Инициализация Accelerate\n",
    "accelerator = Accelerator(\n",
    "    mixed_precision=\"fp16\",\n",
    "    gradient_accumulation_steps=2\n",
    ")\n",
    "\n",
    "# Загрузка модели и токенизатора\n",
    "tokenizer = AutoTokenizer.from_pretrained(\"Geotrend/distilbert-base-ru-cased\")\n",
    "model = AutoModelForSequenceClassification.from_pretrained(\n",
    "    \"Geotrend/distilbert-base-ru-cased\",\n",
    "    num_labels=6,\n",
    "    problem_type=\"multi_label_classification\"\n",
    ")\n",
    "\n",
    "# Конфигурация LoRA\n",
    "peft_config = LoraConfig(\n",
    "    r=8,\n",
    "    lora_alpha=16,\n",
    "    target_modules=[\"q_lin\", \"v_lin\"],\n",
    "    lora_dropout=0.05,\n",
    "    bias=\"none\",\n",
    "    modules_to_save=[\"classifier\"],\n",
    "    use_dora=True\n",
    ")\n",
    "model = get_peft_model(model, peft_config)\n",
    "#print(model)\n",
    "# Загрузка датасета\n",
    "tokenized_datasets = tokenized_datasets  # Укажите путь к вашему датасету\n",
    "train_dataset = tokenized_datasets[\"test\"]  # Используем тестовый набор как тренировочный для примера\n",
    "eval_dataset = tokenized_datasets[\"test\"]\n",
    "\n",
    "# Создание DataLoaders\n",
    "data_collator = DataCollatorWithPadding(tokenizer=tokenizer)\n",
    "train_dataloader = DataLoader(\n",
    "    train_dataset,\n",
    "    shuffle=True,\n",
    "    collate_fn=data_collator,\n",
    "    batch_size=8\n",
    ")\n",
    "eval_dataloader = DataLoader(\n",
    "    eval_dataset,\n",
    "    collate_fn=data_collator,\n",
    "    batch_size=8\n",
    ")\n",
    "\n",
    "# Оптимизатор и планировщик\n",
    "optimizer = AdamW(model.parameters(), lr=2e-4)\n",
    "num_epochs = 35\n",
    "num_training_steps = num_epochs * len(train_dataloader)\n",
    "lr_scheduler = get_scheduler(\n",
    "    name=\"linear\",\n",
    "    optimizer=optimizer,\n",
    "    num_warmup_steps=0,\n",
    "    num_training_steps=num_training_steps\n",
    ")\n",
    "\n",
    "# Подготовка компонентов с помощью Accelerate\n",
    "model, optimizer, train_dataloader, eval_dataloader, lr_scheduler = accelerator.prepare(\n",
    "    model, optimizer, train_dataloader, eval_dataloader, lr_scheduler\n",
    ")\n",
    "\n",
    "# Тренировка с tqdm и отображением метрик\n",
    "model.train()\n",
    "total_loss = 0\n",
    "total_accuracy = 0\n",
    "total_f1 = 0\n",
    "num_batches = 0\n",
    "\n",
    "for epoch in range(num_epochs):\n",
    "    # Оборачиваем тренировочный цикл в tqdm\n",
    "    progress_bar = tqdm(train_dataloader, \n",
    "                       desc=f\"Epoch {epoch+1}/{num_epochs}\", \n",
    "                       disable=not accelerator.is_local_main_process)\n",
    "    \n",
    "    for step, batch in enumerate(progress_bar):\n",
    "        with accelerator.accumulate(model):\n",
    "            outputs = model(**batch)\n",
    "            loss = outputs.loss\n",
    "            total_loss += loss.detach().float()\n",
    "            accelerator.backward(loss)\n",
    "            optimizer.step()\n",
    "            lr_scheduler.step()\n",
    "            optimizer.zero_grad()\n",
    "\n",
    "            # Вычисляем метрики для текущего батча\n",
    "            logits = outputs.logits\n",
    "            preds = torch.sigmoid(logits) > 0.5\n",
    "            labels = batch[\"labels\"]\n",
    "            \n",
    "            # Собираем данные с всех устройств\n",
    "            preds_gathered = accelerator.gather(preds)\n",
    "            labels_gathered = accelerator.gather(labels)\n",
    "            \n",
    "            # Вычисляем метрики\n",
    "            accuracy = accuracy_score(labels_gathered.cpu(), preds_gathered.cpu())\n",
    "            f1 = f1_score(labels_gathered.cpu(), preds_gathered.cpu(), average=\"micro\")\n",
    "            \n",
    "            # Накапливаем метрики\n",
    "            total_accuracy += accuracy\n",
    "            total_f1 += f1\n",
    "            num_batches += 1\n",
    "            \n",
    "            # Обновляем прогресс-бар с текущими метриками\n",
    "            if accelerator.is_local_main_process:\n",
    "                progress_bar.set_postfix({\n",
    "                    \"loss\": loss.item(),\n",
    "                    \"accuracy\": f\"{accuracy:.4f}\",\n",
    "                    \"f1\": f\"{f1:.4f}\"\n",
    "                })\n",
    "\n",
    "    # Вычисляем средние метрики за эпоху\n",
    "    avg_loss = total_loss / len(train_dataloader)\n",
    "    avg_accuracy = total_accuracy / num_batches\n",
    "    avg_f1 = total_f1 / num_batches\n",
    "    \n",
    "    # Выводим итоговые метрики за эпоху\n",
    "    if accelerator.is_local_main_process:\n",
    "        print(f\"\\nEpoch {epoch+1} completed:\")\n",
    "        print(f\"Average Loss: {avg_loss:.4f}\")\n",
    "        print(f\"Average Accuracy: {avg_accuracy:.4f}\")\n",
    "        print(f\"Average F1: {avg_f1:.4f}\\n\")\n",
    "\n",
    "# Оценка\n",
    "model.eval()\n",
    "all_preds, all_labels = [], []\n",
    "\n",
    "for batch in eval_dataloader:\n",
    "    with torch.no_grad():\n",
    "        outputs = model(**batch)\n",
    "    logits = outputs.logits\n",
    "    preds = torch.sigmoid(logits) > 0.5\n",
    "    all_preds.append(accelerator.gather(preds))\n",
    "    all_labels.append(accelerator.gather(batch[\"labels\"]))\n",
    "\n",
    "# Объединение результатов\n",
    "all_preds = torch.cat(all_preds)\n",
    "all_labels = torch.cat(all_labels)\n",
    "all_preds_np = all_preds.cpu().numpy()\n",
    "all_labels_np = all_labels.cpu().numpy()\n",
    "\n",
    "# Вычисление метрик\n",
    "f1 = f1_score(all_labels_np, all_preds_np, average=\"micro\")\n",
    "accuracy = accuracy_score(all_labels_np, all_preds_np)\n",
    "\n",
    "print(f\"Evaluation results - F1: {f1:.4f}, Accuracy: {accuracy:.4f}\")\n",
    "accelerator.wait_for_everyone()\n",
    "\n",
    "# Сохраните модель (только LoRA-адаптеры и классификатор)\n",
    "output_dir = \"./lora_classifier_model\"\n",
    "model.save_pretrained(output_dir)"
   ]
  },
  {
   "cell_type": "code",
   "execution_count": null,
   "id": "1cb4caaf-b59b-4f09-82c0-a7d13f0baf8d",
   "metadata": {},
   "outputs": [],
   "source": []
  }
 ],
 "metadata": {
  "kernelspec": {
   "display_name": "Python 3 (ipykernel)",
   "language": "python",
   "name": "python3"
  },
  "language_info": {
   "codemirror_mode": {
    "name": "ipython",
    "version": 3
   },
   "file_extension": ".py",
   "mimetype": "text/x-python",
   "name": "python",
   "nbconvert_exporter": "python",
   "pygments_lexer": "ipython3",
   "version": "3.12.3"
  }
 },
 "nbformat": 4,
 "nbformat_minor": 5
}
